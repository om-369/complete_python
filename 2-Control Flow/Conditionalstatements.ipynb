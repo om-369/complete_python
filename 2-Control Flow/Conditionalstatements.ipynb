{
 "cells": [
  {
   "cell_type": "markdown",
   "metadata": {},
   "source": [
    "# Conditional statements"
   ]
  },
  {
   "cell_type": "markdown",
   "metadata": {},
   "source": [
    "1. Introduction to conditional statements\n",
    "2. if statement\n",
    "3. else statement \n",
    "4. elif statement\n",
    "5. Nested Conditional Statement\n",
    "6. Practical Examples\n",
    "7. Common Errors and Best Practices"
   ]
  },
  {
   "cell_type": "markdown",
   "metadata": {},
   "source": [
    "## if statement "
   ]
  },
  {
   "cell_type": "code",
   "execution_count": 1,
   "metadata": {},
   "outputs": [
    {
     "name": "stdout",
     "output_type": "stream",
     "text": [
      "You are allowed to vote in the elections\n"
     ]
    }
   ],
   "source": [
    "age = 20 \n",
    "\n",
    "if age >= 18 :\n",
    "    print(\"You are allowed to vote in the elections\")"
   ]
  },
  {
   "cell_type": "markdown",
   "metadata": {},
   "source": [
    "## else statement "
   ]
  },
  {
   "cell_type": "code",
   "execution_count": 2,
   "metadata": {},
   "outputs": [
    {
     "name": "stdout",
     "output_type": "stream",
     "text": [
      "You are a minor\n"
     ]
    }
   ],
   "source": [
    "## the else statement executes a block if condition in the statement is false\n",
    "\n",
    "age = 16\n",
    "\n",
    "if age >= 18 :\n",
    "    print(\"you are eligible for voting\")\n",
    "else:\n",
    "    print(\"You are a minor\")"
   ]
  },
  {
   "cell_type": "markdown",
   "metadata": {},
   "source": [
    "## elif statement"
   ]
  },
  {
   "cell_type": "code",
   "execution_count": 5,
   "metadata": {},
   "outputs": [
    {
     "name": "stdout",
     "output_type": "stream",
     "text": [
      "you are a teenager\n"
     ]
    }
   ],
   "source": [
    "## elif allows you to check multiple conditons . It stands for 'else if'\n",
    "\n",
    "age = 17\n",
    "\n",
    "\n",
    "if age < 13:\n",
    "    print(\"you are a child\") \n",
    "\n",
    "elif age < 18:\n",
    "    print(\"you are a teenager\")\n",
    "else:\n",
    "    print(\"You are an adult\")\n"
   ]
  },
  {
   "cell_type": "code",
   "execution_count": 9,
   "metadata": {},
   "outputs": [
    {
     "name": "stdout",
     "output_type": "stream",
     "text": [
      "the number is positive\n",
      "the number is even\n"
     ]
    }
   ],
   "source": [
    "## Nested conditonal statements\n",
    "\n",
    "## even, odd , negative\n",
    "\n",
    "num = int(input(\"Enter the number\"))\n",
    "\n",
    "if num >= 0:\n",
    "    print(\"the number is positive\")\n",
    "    if num%2 == 0:\n",
    "        print(\"the number is even\")\n",
    "    else:\n",
    "        print(\"The number is odd\")\n",
    "else :\n",
    "    print(\"the number is negative\")"
   ]
  },
  {
   "cell_type": "code",
   "execution_count": 12,
   "metadata": {},
   "outputs": [
    {
     "name": "stdout",
     "output_type": "stream",
     "text": [
      "1984 is a leap year\n"
     ]
    }
   ],
   "source": [
    "## Practical Example\n",
    "\n",
    "## Determine if a year is a leap year using nested condition statement\n",
    "\n",
    "year = int(input(\"Enter the year\"))\n",
    "if year%4 == 0:\n",
    "    if year%100 ==0:\n",
    "        if year%400 ==0:\n",
    "            print(\"Year is a leap year\", year)\n",
    "        else :\n",
    "            print(year, \"is not a leap year\")\n",
    "    else:\n",
    "        print(year, \"is a leap year\")\n",
    "else:\n",
    "    print(year, \"is not a leap year\")"
   ]
  },
  {
   "cell_type": "code",
   "execution_count": 13,
   "metadata": {},
   "outputs": [],
   "source": [
    "# assignment \n",
    "\n",
    "# prepare a simple calculator\n"
   ]
  },
  {
   "cell_type": "markdown",
   "metadata": {},
   "source": [
    "## Simple Calcaulator"
   ]
  },
  {
   "cell_type": "code",
   "execution_count": 15,
   "metadata": {},
   "outputs": [
    {
     "name": "stdout",
     "output_type": "stream",
     "text": [
      "Result :  0.8571428571428571\n"
     ]
    }
   ],
   "source": [
    "num1 = float(input(\"Enter the first number :\"))\n",
    "num2 = float(input(\"Enter the second number :\"))\n",
    "operation = input(\"Enter operation (+, -, *, /) :\")\n",
    "\n",
    "# perform the required operations\n",
    "if operation == '+':\n",
    "    result = num1 + num2\n",
    "elif operation == '-':\n",
    "    result = num1 - num2\n",
    "elif operation == '*':\n",
    "    result = num1 * num2\n",
    "elif operation == '/':\n",
    "    if num2 != 0:\n",
    "        result = num1 / num2\n",
    "    else:\n",
    "        result = \"Error! Division by zero\"\n",
    "else:\n",
    "    result = \"Invalid operation\"\n",
    "\n",
    "print(\"Result : \", result)"
   ]
  },
  {
   "cell_type": "code",
   "execution_count": 16,
   "metadata": {},
   "outputs": [
    {
     "name": "stdout",
     "output_type": "stream",
     "text": [
      "Result :  50.0\n"
     ]
    }
   ],
   "source": [
    "num1 = float(input(\"Enter the first number :\"))\n",
    "operation = input(\"Enter operation (+, -, *, /) :\")\n",
    "num2 = float(input(\"Enter the second number :\"))\n",
    "\n",
    "\n",
    "# perform the required operations\n",
    "if operation == '+':\n",
    "    result = num1 + num2\n",
    "elif operation == '-':\n",
    "    result = num1 - num2\n",
    "elif operation == '*':\n",
    "    result = num1 * num2\n",
    "elif operation == '/':\n",
    "    if num2 != 0:\n",
    "        result = num1 / num2\n",
    "    else:\n",
    "        result = \"Error! Division by zero\"\n",
    "else:\n",
    "    result = \"Invalid operation\"\n",
    "\n",
    "print(\"Result : \", result)"
   ]
  },
  {
   "cell_type": "code",
   "execution_count": 22,
   "metadata": {},
   "outputs": [
    {
     "name": "stdout",
     "output_type": "stream",
     "text": [
      "Ticket Price : $ 25\n"
     ]
    }
   ],
   "source": [
    "### Determine the ticket price based on age and wheather the person is a student.\n",
    "# Ticket pricing based on age and student status\n",
    "\n",
    "# TAke user input\n",
    "age = int(input(\"Enter your Age :\"))\n",
    "is_student = input(\"ARE you a student ? (Yes/No) : \").lower()\n",
    "\n",
    "# Determine ticket price:\n",
    "if age < 5 :\n",
    "    price = 'Free'\n",
    "elif age <= 12:\n",
    "    price = \"$ 10\"\n",
    "elif age <= 17:\n",
    "    if is_student == 'yes':\n",
    "        price = '$ 12'\n",
    "    else :\n",
    "        price = '$ 15'\n",
    "elif age <= 64:\n",
    "    if is_student == 'yes':\n",
    "        price = '$ 18'\n",
    "    else:\n",
    "        price = '$ 25'\n",
    "else:\n",
    "    price = '$ 20'\n",
    "\n",
    "print(\"Ticket Price :\", price)"
   ]
  },
  {
   "cell_type": "code",
   "execution_count": null,
   "metadata": {},
   "outputs": [],
   "source": []
  }
 ],
 "metadata": {
  "kernelspec": {
   "display_name": "Python 3",
   "language": "python",
   "name": "python3"
  },
  "language_info": {
   "codemirror_mode": {
    "name": "ipython",
    "version": 3
   },
   "file_extension": ".py",
   "mimetype": "text/x-python",
   "name": "python",
   "nbconvert_exporter": "python",
   "pygments_lexer": "ipython3",
   "version": "3.12.0"
  }
 },
 "nbformat": 4,
 "nbformat_minor": 2
}
