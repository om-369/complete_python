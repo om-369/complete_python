{
 "cells": [
  {
   "cell_type": "markdown",
   "metadata": {},
   "source": [
    "# variables"
   ]
  },
  {
   "cell_type": "markdown",
   "metadata": {},
   "source": [
    "Variables are fundamental elements in programming used to store data that can be used to refer and manipulate the data in a program. In Python , variables are created when you assign a value to them, and they do not need explict declaration to reserve memory space. The declacration happens automatically when you assign a value to variable."
   ]
  },
  {
   "cell_type": "markdown",
   "metadata": {},
   "source": [
    "## Introduction \n",
    "### Declaration and assigning variables\n",
    "### Naming the Conversations \n",
    "### Understanding VAriables\n",
    "### type checking and conversion\n",
    "### Dynamic typing\n",
    "### Practical Example and Common Errors"
   ]
  },
  {
   "cell_type": "code",
   "execution_count": 5,
   "metadata": {},
   "outputs": [
    {
     "name": "stdout",
     "output_type": "stream",
     "text": [
      "age : 32\n",
      "height : 6.1\n",
      "NAME : Om\n"
     ]
    }
   ],
   "source": [
    "# DEclaring and assiging Variables\n",
    "\n",
    "age = 32\n",
    "height = 6.1\n",
    "name = \"Om\"\n",
    "is_student = True\n",
    "\n",
    "### printing the varaibles\n",
    "\n",
    "print(\"age :\",age)\n",
    "print(\"height :\", height)\n",
    "print(\"NAME :\", name)\n"
   ]
  },
  {
   "cell_type": "code",
   "execution_count": 6,
   "metadata": {},
   "outputs": [
    {
     "name": "stdout",
     "output_type": "stream",
     "text": [
      "om\n"
     ]
    }
   ],
   "source": [
    "### Naming Conventions\n",
    "## VAriable names should be descriptive\n",
    "## They must always start with a letter or '_'. and contains letters, numbers and underscore\n",
    "## variables names case sensitive\n",
    "\n",
    "### vaild variables\n",
    "\n",
    "first_name =\"om\"\n",
    "print(first_name)"
   ]
  },
  {
   "cell_type": "code",
   "execution_count": 7,
   "metadata": {},
   "outputs": [],
   "source": [
    "# case sensitvity \n"
   ]
  },
  {
   "cell_type": "code",
   "execution_count": 9,
   "metadata": {},
   "outputs": [],
   "source": [
    "## understanding variable type\n",
    "### python is dynamically typed \n",
    "# variable is determined at the runtime"
   ]
  },
  {
   "cell_type": "code",
   "execution_count": 10,
   "metadata": {},
   "outputs": [],
   "source": [
    "age =23  # int\n",
    "height = 5.8 # float\n",
    "name = 'OM'  # str\n",
    "is_student  = True  # bool"
   ]
  },
  {
   "cell_type": "code",
   "execution_count": 11,
   "metadata": {},
   "outputs": [
    {
     "data": {
      "text/plain": [
       "float"
      ]
     },
     "execution_count": 11,
     "metadata": {},
     "output_type": "execute_result"
    }
   ],
   "source": [
    "## type checking \n",
    "type(height)"
   ]
  },
  {
   "cell_type": "code",
   "execution_count": 13,
   "metadata": {},
   "outputs": [
    {
     "name": "stdout",
     "output_type": "stream",
     "text": [
      "<class 'int'>\n",
      "23\n",
      "<class 'str'>\n"
     ]
    }
   ],
   "source": [
    "# conversion of data type\n",
    "\n",
    "print(type(age))\n",
    "\n",
    "# type conversion \n",
    "\n",
    "age_str = str(age)\n",
    "print(age_str)\n",
    "print(type(age_str))"
   ]
  },
  {
   "cell_type": "code",
   "execution_count": 14,
   "metadata": {},
   "outputs": [
    {
     "name": "stdout",
     "output_type": "stream",
     "text": [
      "<class 'int'>\n"
     ]
    }
   ],
   "source": [
    "age = 25 \n",
    "print(type(int((age))))"
   ]
  },
  {
   "cell_type": "code",
   "execution_count": 15,
   "metadata": {},
   "outputs": [
    {
     "data": {
      "text/plain": [
       "float"
      ]
     },
     "execution_count": 15,
     "metadata": {},
     "output_type": "execute_result"
    }
   ],
   "source": [
    "height = 5.8\n",
    "type(height)"
   ]
  },
  {
   "cell_type": "code",
   "execution_count": 16,
   "metadata": {},
   "outputs": [
    {
     "data": {
      "text/plain": [
       "5"
      ]
     },
     "execution_count": 16,
     "metadata": {},
     "output_type": "execute_result"
    }
   ],
   "source": [
    "int(height)"
   ]
  },
  {
   "cell_type": "code",
   "execution_count": 17,
   "metadata": {},
   "outputs": [
    {
     "data": {
      "text/plain": [
       "5.0"
      ]
     },
     "execution_count": 17,
     "metadata": {},
     "output_type": "execute_result"
    }
   ],
   "source": [
    "float(int(height))"
   ]
  },
  {
   "cell_type": "code",
   "execution_count": 22,
   "metadata": {},
   "outputs": [
    {
     "name": "stdout",
     "output_type": "stream",
     "text": [
      "10 <class 'int'>\n",
      "10 <class 'int'>\n",
      "<class 'str'>\n",
      "3.14 <class 'float'>\n"
     ]
    }
   ],
   "source": [
    "## dynamic \n",
    "\n",
    "var = 10\n",
    "print(var,type(var))\n",
    "\n",
    "# python allows a type of variable to change as the program executes\n",
    "\n",
    "var = 10 ## int \n",
    "print(var, type(var))\n",
    "\n",
    "var = \"HEllo\"\n",
    "print((type(var)))\n",
    "\n",
    "\n",
    "var = 3.14\n",
    "print(var, type(var))"
   ]
  },
  {
   "cell_type": "code",
   "execution_count": 25,
   "metadata": {},
   "outputs": [
    {
     "name": "stdout",
     "output_type": "stream",
     "text": [
      "25 <class 'int'>\n"
     ]
    }
   ],
   "source": [
    "### input ---> user wants to give some values\n",
    "\n",
    "age = int(input(\" what is your age\"))\n",
    "print(age, type(age))\n"
   ]
  },
  {
   "cell_type": "code",
   "execution_count": 26,
   "metadata": {},
   "outputs": [
    {
     "name": "stdout",
     "output_type": "stream",
     "text": [
      "Sum : 132.0\n",
      "Difference : -60.0\n",
      "Product : 3456.0\n",
      "Quotient : 0.375\n"
     ]
    }
   ],
   "source": [
    "### simple Calculator\n",
    "\n",
    "num1 = float (input(\"Enter the First Number : \"))\n",
    "num2 = float (input(\"Enter the Second Number :\"))\n",
    "\n",
    "sum = num1 + num2\n",
    "difference = num1 - num2\n",
    "product = num1 * num2\n",
    "quotient = num1 / num2\n",
    "\n",
    "print(\"Sum :\", sum)\n",
    "print(\"Difference :\", difference)\n",
    "print(\"Product :\", product)\n",
    "print('Quotient :', quotient)"
   ]
  },
  {
   "cell_type": "code",
   "execution_count": null,
   "metadata": {},
   "outputs": [],
   "source": []
  }
 ],
 "metadata": {
  "kernelspec": {
   "display_name": "Python 3",
   "language": "python",
   "name": "python3"
  },
  "language_info": {
   "codemirror_mode": {
    "name": "ipython",
    "version": 3
   },
   "file_extension": ".py",
   "mimetype": "text/x-python",
   "name": "python",
   "nbconvert_exporter": "python",
   "pygments_lexer": "ipython3",
   "version": "3.12.0"
  }
 },
 "nbformat": 4,
 "nbformat_minor": 2
}
