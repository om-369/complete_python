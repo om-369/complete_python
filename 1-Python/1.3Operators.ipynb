{
 "cells": [
  {
   "cell_type": "markdown",
   "metadata": {},
   "source": [
    "# Deep Dive into operators "
   ]
  },
  {
   "cell_type": "markdown",
   "metadata": {},
   "source": [
    "1. introduction\n",
    "2. Arithmatic Operators:\n",
    "    - Addition\n",
    "    - Substraction\n",
    "    - Multiplication\n",
    "    - Division\n",
    "    - Floor division\n",
    "    - Modulus\n",
    "    - Exponential\n",
    "3. Comparsion Operators\n",
    "    - Equal to\n",
    "    - Not equal to\n",
    "    - Greater than or equal to\n",
    "    - less than or equal to\n",
    "4. Logical Operators\n",
    "    - AND \n",
    "    - OR\n",
    "    - NOT\n",
    "5. Practiacal Examples and COmmon errors"
   ]
  },
  {
   "cell_type": "code",
   "execution_count": 3,
   "metadata": {},
   "outputs": [
    {
     "name": "stdout",
     "output_type": "stream",
     "text": [
      "15\n",
      "5\n",
      "50\n",
      "2.0\n",
      "2\n",
      "0\n",
      "100000\n"
     ]
    }
   ],
   "source": [
    "# Arithmatic operation \n",
    "a = 10 \n",
    "b = 5 \n",
    "\n",
    "add_result = a+b\n",
    "sub_result = a-b\n",
    "mult_result = a*b\n",
    "div_result = a/b\n",
    "floor_div_result = a//b\n",
    "modulus_result = a%b\n",
    "expo_result = a**b\n",
    "\n",
    "print(add_result)\n",
    "print(sub_result)\n",
    "print(mult_result)\n",
    "print(div_result)\n",
    "print(floor_div_result)\n",
    "print(modulus_result)\n",
    "print(expo_result)"
   ]
  },
  {
   "cell_type": "markdown",
   "metadata": {},
   "source": [
    "### Comparsion Operators"
   ]
  },
  {
   "cell_type": "code",
   "execution_count": 6,
   "metadata": {},
   "outputs": [
    {
     "data": {
      "text/plain": [
       "True"
      ]
     },
     "execution_count": 6,
     "metadata": {},
     "output_type": "execute_result"
    }
   ],
   "source": [
    "# Comparision Operarators\n",
    "\n",
    "a = 10 \n",
    "b = 10 \n",
    "\n",
    "a==b  # equal to operators\n"
   ]
  },
  {
   "cell_type": "code",
   "execution_count": 7,
   "metadata": {},
   "outputs": [],
   "source": [
    "str1 = \"OM\"\n",
    "str2 = \"OM\"\n",
    "\n",
    "str1 = str2"
   ]
  },
  {
   "cell_type": "code",
   "execution_count": 9,
   "metadata": {},
   "outputs": [
    {
     "data": {
      "text/plain": [
       "True"
      ]
     },
     "execution_count": 9,
     "metadata": {},
     "output_type": "execute_result"
    }
   ],
   "source": [
    "### NOt equal to !=\n",
    "str1 = \"OM\"\n",
    "str2 = \"Om\"\n",
    "str1 != str2"
   ]
  },
  {
   "cell_type": "code",
   "execution_count": 10,
   "metadata": {},
   "outputs": [
    {
     "data": {
      "text/plain": [
       "True"
      ]
     },
     "execution_count": 10,
     "metadata": {},
     "output_type": "execute_result"
    }
   ],
   "source": [
    "# Greater than >\n",
    "\n",
    "a = 45\n",
    "b = 30\n",
    "\n",
    "a>b"
   ]
  },
  {
   "cell_type": "code",
   "execution_count": 11,
   "metadata": {},
   "outputs": [
    {
     "data": {
      "text/plain": [
       "False"
      ]
     },
     "execution_count": 11,
     "metadata": {},
     "output_type": "execute_result"
    }
   ],
   "source": [
    "# Less than  < \n",
    "\n",
    "a<b\n"
   ]
  },
  {
   "cell_type": "code",
   "execution_count": 12,
   "metadata": {},
   "outputs": [
    {
     "data": {
      "text/plain": [
       "True"
      ]
     },
     "execution_count": 12,
     "metadata": {},
     "output_type": "execute_result"
    }
   ],
   "source": [
    "# Greater than or equal to \n",
    "\n",
    "num1 = 45\n",
    "num2 = 45\n",
    "\n",
    "num1 >= num2"
   ]
  },
  {
   "cell_type": "code",
   "execution_count": 13,
   "metadata": {},
   "outputs": [
    {
     "data": {
      "text/plain": [
       "True"
      ]
     },
     "execution_count": 13,
     "metadata": {},
     "output_type": "execute_result"
    }
   ],
   "source": [
    "# Lessthan or equal to \n",
    "num1 <= num2"
   ]
  },
  {
   "cell_type": "markdown",
   "metadata": {},
   "source": [
    "### Logical Operator"
   ]
  },
  {
   "cell_type": "code",
   "execution_count": 14,
   "metadata": {},
   "outputs": [],
   "source": [
    "# Logical Operators"
   ]
  },
  {
   "cell_type": "code",
   "execution_count": 16,
   "metadata": {},
   "outputs": [
    {
     "name": "stdout",
     "output_type": "stream",
     "text": [
      "True\n"
     ]
    }
   ],
   "source": [
    "## And , NOT, OR\n",
    "\n",
    "x = True\n",
    "y = True\n",
    "\n",
    "res = x and y\n",
    "print(res)"
   ]
  },
  {
   "cell_type": "code",
   "execution_count": 18,
   "metadata": {},
   "outputs": [
    {
     "name": "stdout",
     "output_type": "stream",
     "text": [
      "False\n"
     ]
    }
   ],
   "source": [
    "x = False\n",
    "y = True\n",
    "\n",
    "res = x and y \n",
    "print(res)"
   ]
  },
  {
   "cell_type": "code",
   "execution_count": 20,
   "metadata": {},
   "outputs": [
    {
     "name": "stdout",
     "output_type": "stream",
     "text": [
      "False\n"
     ]
    }
   ],
   "source": [
    "# OR\n",
    "\n",
    "x = False\n",
    "y = False\n",
    "\n",
    "res = x or y\n",
    "print(res)"
   ]
  },
  {
   "cell_type": "code",
   "execution_count": 21,
   "metadata": {},
   "outputs": [
    {
     "name": "stdout",
     "output_type": "stream",
     "text": [
      "True\n"
     ]
    }
   ],
   "source": [
    "x = True\n",
    "y = False\n",
    "\n",
    "res = x or y\n",
    "print(res)"
   ]
  },
  {
   "cell_type": "code",
   "execution_count": 22,
   "metadata": {},
   "outputs": [
    {
     "data": {
      "text/plain": [
       "False"
      ]
     },
     "execution_count": 22,
     "metadata": {},
     "output_type": "execute_result"
    }
   ],
   "source": [
    "# NOT ---> inverse\n",
    "\n",
    "# reverse of boolean \n",
    "\n",
    "x =True\n",
    "not x\n"
   ]
  },
  {
   "cell_type": "markdown",
   "metadata": {},
   "source": [
    "### Simple Calculator"
   ]
  },
  {
   "cell_type": "code",
   "execution_count": 23,
   "metadata": {},
   "outputs": [
    {
     "name": "stdout",
     "output_type": "stream",
     "text": [
      "Addition : 15.0\n",
      "substraction :  5.0\n",
      "multiplication : 50.0\n",
      "Division : 2.0\n",
      "Floor_Division 2.0\n",
      "modulus : 0.0\n",
      "expo : 100000.0\n"
     ]
    }
   ],
   "source": [
    "num1 = float(input(\"Enter the number : \"))\n",
    "num2 = float (input(\"Enter the number : \"))\n",
    "\n",
    "# Performing arthematic operations\n",
    "\n",
    "addition = num1 + num2\n",
    "substraction = num1 - num2\n",
    "multiplication = num1 * num2\n",
    "division = num1 / num2\n",
    "floor_division = num1 // num2\n",
    "modulus = num1 % num2\n",
    "expo = num1 ** num2\n",
    "\n",
    "# Displaying the result\n",
    "print('Addition :', addition)\n",
    "print(\"substraction : \", substraction)\n",
    "print(\"multiplication :\", multiplication)\n",
    "print(\"Division :\", division)\n",
    "print(\"Floor_Division\", floor_division)\n",
    "print(\"modulus :\", modulus)\n",
    "print(\"expo :\", expo)"
   ]
  },
  {
   "cell_type": "code",
   "execution_count": null,
   "metadata": {},
   "outputs": [],
   "source": []
  }
 ],
 "metadata": {
  "kernelspec": {
   "display_name": "Python 3",
   "language": "python",
   "name": "python3"
  },
  "language_info": {
   "codemirror_mode": {
    "name": "ipython",
    "version": 3
   },
   "file_extension": ".py",
   "mimetype": "text/x-python",
   "name": "python",
   "nbconvert_exporter": "python",
   "pygments_lexer": "ipython3",
   "version": "3.12.0"
  }
 },
 "nbformat": 4,
 "nbformat_minor": 2
}
