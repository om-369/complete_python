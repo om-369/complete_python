{
 "cells": [
  {
   "cell_type": "markdown",
   "metadata": {},
   "source": [
    "# Dictionaries\n"
   ]
  },
  {
   "cell_type": "markdown",
   "metadata": {},
   "source": [
    "1. Introduction to Dictionaries\n",
    "2. Creating Dictionaries\n",
    "3. Accessing Dictinories\n",
    "4. Modifiying Dictionaries\n",
    "5. Dictionary Methods \n",
    "6. Iterating over dictionaries\n",
    "7. NEsted Dictionaries\n",
    "8. Dictionary Comprehensions\n",
    "9. Practical Examples and common Errors "
   ]
  },
  {
   "cell_type": "markdown",
   "metadata": {},
   "source": [
    "### Introduction to Dictionaries\n"
   ]
  },
  {
   "cell_type": "markdown",
   "metadata": {},
   "source": [
    "- Dictionaries are unordered collection of items . to store data in key , value pair. Key must be unique and immutable"
   ]
  },
  {
   "cell_type": "code",
   "execution_count": 1,
   "metadata": {},
   "outputs": [
    {
     "name": "stdout",
     "output_type": "stream",
     "text": [
      "{}\n"
     ]
    }
   ],
   "source": [
    "## Creating Dictionary\n",
    "\n",
    "empty_dict = {}\n",
    "print(empty_dict)"
   ]
  },
  {
   "cell_type": "code",
   "execution_count": 2,
   "metadata": {},
   "outputs": [
    {
     "name": "stdout",
     "output_type": "stream",
     "text": [
      "{'name': 'krish', 'age': 32, 'grade': 25}\n"
     ]
    }
   ],
   "source": [
    "student = {'name': 'krish',\n",
    "           'age': 32 ,\n",
    "           'grade': 25}\n",
    "print(student)"
   ]
  },
  {
   "cell_type": "code",
   "execution_count": 4,
   "metadata": {},
   "outputs": [
    {
     "name": "stdout",
     "output_type": "stream",
     "text": [
      "{'name': 0, 'age': 32, 'grade': 25}\n"
     ]
    }
   ],
   "source": [
    "student = {'name': 'krish',\n",
    "           'age': 32 ,\n",
    "           'name': 000,\n",
    "           'grade': 25}\n",
    "print(student)   # replacement of name"
   ]
  },
  {
   "cell_type": "code",
   "execution_count": 5,
   "metadata": {},
   "outputs": [
    {
     "name": "stdout",
     "output_type": "stream",
     "text": [
      "{'name': 'krish', 'age': 32, 'grade': 'A'}\n"
     ]
    }
   ],
   "source": [
    "# accessing dictionary elements\n",
    "student = {'name': 'krish',\n",
    "           'age': 32 ,\n",
    "           'grade': 'A'}\n",
    "print(student)"
   ]
  },
  {
   "cell_type": "code",
   "execution_count": 11,
   "metadata": {},
   "outputs": [
    {
     "name": "stdout",
     "output_type": "stream",
     "text": [
      "A\n",
      "32\n",
      "A\n",
      "None\n",
      "not available\n"
     ]
    }
   ],
   "source": [
    "print(student['grade'])\n",
    "print(student['age'])\n",
    "\n",
    "\n",
    "## accesing using get() method\n",
    "\n",
    "print(student.get('grade'))\n",
    "print(student.get('Last name'))\n",
    "print(student.get('last name', 'not available'))\n"
   ]
  },
  {
   "cell_type": "code",
   "execution_count": 12,
   "metadata": {},
   "outputs": [
    {
     "name": "stdout",
     "output_type": "stream",
     "text": [
      "{'name': 'krish', 'age': 32, 'grade': 'A'}\n"
     ]
    }
   ],
   "source": [
    "## Modify Dictionary Elements\n",
    "## Dictionary are mutable , so you can add , update, or delete elements\n",
    "\n",
    "print(student)"
   ]
  },
  {
   "cell_type": "code",
   "execution_count": 14,
   "metadata": {},
   "outputs": [
    {
     "name": "stdout",
     "output_type": "stream",
     "text": [
      "{'name': 'krish', 'age': 33, 'grade': 'A', 'address': 'India'}\n",
      "{'name': 'krish', 'age': 33, 'grade': 'A', 'address': 'India'}\n"
     ]
    }
   ],
   "source": [
    "student['age'] =33 # updated value\n",
    "print(student)\n",
    "student['address'] = \"India\"   # added key and value\n",
    "\n",
    "print(student)"
   ]
  },
  {
   "cell_type": "code",
   "execution_count": 18,
   "metadata": {},
   "outputs": [
    {
     "ename": "KeyError",
     "evalue": "'grade'",
     "output_type": "error",
     "traceback": [
      "\u001b[1;31m---------------------------------------------------------------------------\u001b[0m",
      "\u001b[1;31mKeyError\u001b[0m                                  Traceback (most recent call last)",
      "Cell \u001b[1;32mIn[18], line 1\u001b[0m\n\u001b[1;32m----> 1\u001b[0m \u001b[38;5;28;01mdel\u001b[39;00m \u001b[43mstudent\u001b[49m\u001b[43m[\u001b[49m\u001b[38;5;124;43m'\u001b[39;49m\u001b[38;5;124;43mgrade\u001b[39;49m\u001b[38;5;124;43m'\u001b[39;49m\u001b[43m]\u001b[49m \u001b[38;5;66;03m# updated so showing error\u001b[39;00m\n",
      "\u001b[1;31mKeyError\u001b[0m: 'grade'"
     ]
    }
   ],
   "source": [
    "del student['grade'] # updated so showing error\n"
   ]
  },
  {
   "cell_type": "code",
   "execution_count": 17,
   "metadata": {},
   "outputs": [
    {
     "name": "stdout",
     "output_type": "stream",
     "text": [
      "{'name': 'krish', 'age': 33, 'address': 'India'}\n"
     ]
    }
   ],
   "source": [
    "print(student)"
   ]
  },
  {
   "cell_type": "code",
   "execution_count": 24,
   "metadata": {},
   "outputs": [
    {
     "name": "stdout",
     "output_type": "stream",
     "text": [
      "dict_keys(['name', 'age', 'address'])\n",
      "dict_values(['krish', 33, 'India'])\n",
      "dict_items([('name', 'krish'), ('age', 33), ('address', 'India')])\n"
     ]
    }
   ],
   "source": [
    "## Dictionary methods\n",
    "\n",
    "keys = student.keys()\n",
    "print((keys))\n",
    "\n",
    "values = student.values()\n",
    "print(values)\n",
    "\n",
    "items = student.items()\n",
    "print(items)"
   ]
  },
  {
   "cell_type": "code",
   "execution_count": 25,
   "metadata": {},
   "outputs": [
    {
     "name": "stdout",
     "output_type": "stream",
     "text": [
      "{'name': 'krish', 'age': 33, 'address': 'India'}\n",
      "{'name': 'krish', 'age': 33, 'address': 'India'}\n"
     ]
    }
   ],
   "source": [
    "## shallow copy \n",
    "\n",
    "student_copy = student\n",
    "print(student)\n",
    "print(student_copy)"
   ]
  },
  {
   "cell_type": "code",
   "execution_count": 26,
   "metadata": {},
   "outputs": [
    {
     "name": "stdout",
     "output_type": "stream",
     "text": [
      "{'name': 'krish1', 'age': 33, 'address': 'India'}\n",
      "{'name': 'krish1', 'age': 33, 'address': 'India'}\n"
     ]
    }
   ],
   "source": [
    "student['name']='krish1'\n",
    "print(student)\n",
    "print(student_copy)"
   ]
  },
  {
   "cell_type": "code",
   "execution_count": 28,
   "metadata": {},
   "outputs": [
    {
     "name": "stdout",
     "output_type": "stream",
     "text": [
      "{'name': 'krish1', 'age': 33, 'address': 'India'}\n",
      "{'name': 'krish1', 'age': 33, 'address': 'India'}\n"
     ]
    }
   ],
   "source": [
    "student_copy1 = student.copy() ## shallow copy\n",
    "print(student_copy1)\n",
    "print(student)\n"
   ]
  },
  {
   "cell_type": "code",
   "execution_count": 30,
   "metadata": {},
   "outputs": [
    {
     "name": "stdout",
     "output_type": "stream",
     "text": [
      "{'name': 'krish1', 'age': 33, 'address': 'India'}\n",
      "{'name': 'krish3', 'age': 33, 'address': 'India'}\n"
     ]
    }
   ],
   "source": [
    "student['name']= 'krish3'\n",
    "print(student_copy1)\n",
    "print(student)"
   ]
  },
  {
   "cell_type": "code",
   "execution_count": 32,
   "metadata": {},
   "outputs": [
    {
     "name": "stdout",
     "output_type": "stream",
     "text": [
      "name\n",
      "age\n",
      "address\n"
     ]
    }
   ],
   "source": [
    "# Iterating over dictionaries\n",
    "\n",
    "## You can use loops to iterate over Dictionaries , KEys , values or items\n",
    "\n",
    "## Iterations over keys\n",
    "\n",
    "for keys in student.keys():\n",
    "    print(keys)"
   ]
  },
  {
   "cell_type": "code",
   "execution_count": 33,
   "metadata": {},
   "outputs": [
    {
     "name": "stdout",
     "output_type": "stream",
     "text": [
      "krish3\n",
      "33\n",
      "India\n"
     ]
    }
   ],
   "source": [
    "# iterate over values\n",
    "\n",
    "for values in student.values():\n",
    "    print(values)"
   ]
  },
  {
   "cell_type": "code",
   "execution_count": 34,
   "metadata": {},
   "outputs": [
    {
     "name": "stdout",
     "output_type": "stream",
     "text": [
      "name : krish3\n",
      "age : 33\n",
      "address : India\n"
     ]
    }
   ],
   "source": [
    "## iterate over key , value pairs\n",
    "\n",
    "for key, values, in student.items():\n",
    "    print(f'{key} : {values}')"
   ]
  },
  {
   "cell_type": "code",
   "execution_count": 36,
   "metadata": {},
   "outputs": [
    {
     "name": "stdout",
     "output_type": "stream",
     "text": [
      "{'student1': {'name': 'krish', 'age': '32'}, 'student2': {'name': 'om', 'age': '21'}, 'student3': {'name': 'peter', 'age': 33}}\n"
     ]
    }
   ],
   "source": [
    "# NEsted Dictionaries\n",
    "\n",
    "students = {\n",
    "    'student1':{'name':'krish', 'age':'32'},\n",
    "    'student2':{'name':'om', 'age':'21'},\n",
    "    'student3':{'name':'peter','age':33}\n",
    "}\n",
    "print(students)"
   ]
  },
  {
   "cell_type": "code",
   "execution_count": 38,
   "metadata": {},
   "outputs": [
    {
     "name": "stdout",
     "output_type": "stream",
     "text": [
      "peter\n",
      "krish\n"
     ]
    }
   ],
   "source": [
    "## Access nested dictionary elements\n",
    "\n",
    "print(students['student3']['name'])\n",
    "print(students['student1']['name'])"
   ]
  },
  {
   "cell_type": "code",
   "execution_count": 40,
   "metadata": {},
   "outputs": [
    {
     "name": "stdout",
     "output_type": "stream",
     "text": [
      "student1:{'name': 'krish', 'age': '32'}\n",
      "name : krish\n",
      "age : 32\n",
      "student2:{'name': 'om', 'age': '21'}\n",
      "name : om\n",
      "age : 21\n",
      "student3:{'name': 'peter', 'age': 33}\n",
      "name : peter\n",
      "age : 33\n"
     ]
    }
   ],
   "source": [
    "# iterating over nested dictionaries\n",
    "for student_id, student_info in students.items():\n",
    "    print(f'{student_id}:{student_info}')\n",
    "    for key, value in student_info.items():\n",
    "        print(f'{key} : {value}')\n"
   ]
  },
  {
   "cell_type": "code",
   "execution_count": 41,
   "metadata": {},
   "outputs": [
    {
     "name": "stdout",
     "output_type": "stream",
     "text": [
      "{0: 0, 1: 1, 2: 4, 3: 9, 4: 16}\n"
     ]
    }
   ],
   "source": [
    "# Dictionary comprehension\n",
    "\n",
    "squares = {x:x**2 for x in range(5)}\n",
    "print(squares)"
   ]
  },
  {
   "cell_type": "code",
   "execution_count": 42,
   "metadata": {},
   "outputs": [
    {
     "name": "stdout",
     "output_type": "stream",
     "text": [
      "{0: 0, 2: 4, 4: 16, 6: 36, 8: 64}\n"
     ]
    }
   ],
   "source": [
    "## Conditional Dictionary comprehension\n",
    "\n",
    "even = {x:x**2 for x in range(10) if x%2==0}\n",
    "print(even)"
   ]
  },
  {
   "cell_type": "code",
   "execution_count": 43,
   "metadata": {},
   "outputs": [
    {
     "name": "stdout",
     "output_type": "stream",
     "text": [
      "{1: 1, 2: 2, 3: 3, 4: 4}\n"
     ]
    }
   ],
   "source": [
    "# Practical examples:\n",
    "\n",
    "## USe a dictionary to count the frequency of elements in list \n",
    "\n",
    "numbers = [1,2,2,3,3,3,4,4,4,4]\n",
    "frequency = {}\n",
    "\n",
    "for number in numbers:\n",
    "    if number in frequency:\n",
    "        frequency[number]+=1\n",
    "    else :\n",
    "        frequency[number] = 1\n",
    "print(frequency)"
   ]
  },
  {
   "cell_type": "code",
   "execution_count": 45,
   "metadata": {},
   "outputs": [
    {
     "name": "stdout",
     "output_type": "stream",
     "text": [
      "{'a': 1, 'b': 2, 'c': 3, 'd': 4}\n"
     ]
    }
   ],
   "source": [
    "# Merge 2 dictionary into one \n",
    "\n",
    "dict1 = {'a':1,'b':2}\n",
    "dict2 = {'c': 3, 'd':4}\n",
    "\n",
    "merge_dict ={**dict1,**dict2}\n",
    "print(merge_dict)"
   ]
  },
  {
   "cell_type": "code",
   "execution_count": null,
   "metadata": {},
   "outputs": [],
   "source": []
  }
 ],
 "metadata": {
  "kernelspec": {
   "display_name": "venv1",
   "language": "python",
   "name": "python3"
  },
  "language_info": {
   "codemirror_mode": {
    "name": "ipython",
    "version": 3
   },
   "file_extension": ".py",
   "mimetype": "text/x-python",
   "name": "python",
   "nbconvert_exporter": "python",
   "pygments_lexer": "ipython3",
   "version": "3.12.0"
  }
 },
 "nbformat": 4,
 "nbformat_minor": 2
}
