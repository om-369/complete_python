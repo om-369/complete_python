{
 "cells": [
  {
   "cell_type": "markdown",
   "metadata": {},
   "source": [
    "### Real world examples using list in Python "
   ]
  },
  {
   "cell_type": "markdown",
   "metadata": {},
   "source": [
    "Lists are one of the most commonly used data structures in python , thanks to their versatiltity and ease of use,\n",
    "Here are several practical examples that illustrate their use in real-world scenarios.\n"
   ]
  },
  {
   "cell_type": "markdown",
   "metadata": {},
   "source": [
    "Example 1: Manage A To do list \n",
    "- Create a To do list to keep track of Tasks"
   ]
  },
  {
   "cell_type": "code",
   "execution_count": 2,
   "metadata": {},
   "outputs": [
    {
     "name": "stdout",
     "output_type": "stream",
     "text": [
      "Dont forget to pay utility bills\n",
      "To Do list Remaining\n",
      "-Buy Groceries\n",
      "-pay bills\n",
      "-Schedule a meeting\n",
      "-GO for a run\n"
     ]
    }
   ],
   "source": [
    "to_do_list = ['Buy Groceries','clean the house','pay bills']\n",
    "\n",
    "## Adding to task\n",
    "\n",
    "to_do_list.append('Schedule a meeting')\n",
    "to_do_list.append('GO for a run')\n",
    "\n",
    "## Removing a completed task\n",
    "to_do_list.remove('clean the house')\n",
    "\n",
    "## checking if the task is in the list\n",
    "\n",
    "if 'pay bills' in to_do_list:\n",
    "    print('Dont forget to pay utility bills')\n",
    "\n",
    "print('To Do list Remaining')\n",
    "for task in  to_do_list:\n",
    "    print(f'-{task}')"
   ]
  },
  {
   "cell_type": "markdown",
   "metadata": {},
   "source": [
    "### Example 2: Organizing students Grades\n",
    "\n",
    "- Create a list to store and calculate average grades for students"
   ]
  },
  {
   "cell_type": "code",
   "execution_count": 6,
   "metadata": {},
   "outputs": [
    {
     "name": "stdout",
     "output_type": "stream",
     "text": [
      "Average Grades : 88.00\n",
      "Highest Grades : 95\n",
      "Lowest Grades : 78\n"
     ]
    }
   ],
   "source": [
    "# Organising student grades\n",
    "grades = [85,92,78,90,88]\n",
    "\n",
    "# adding grades \n",
    "grades.append(95)\n",
    "\n",
    "#calculating the average grade\n",
    "average_grade = sum(grades) / len(grades)\n",
    "print(f'Average Grades : {average_grade:.2f}')\n",
    "\n",
    "# finding the highest and lowest grades\n",
    "\n",
    "highest_grades = max(grades)\n",
    "lowest_grades = min(grades)\n",
    "\n",
    "print(f'Highest Grades : {highest_grades}')\n",
    "print(f'Lowest Grades : {lowest_grades}')"
   ]
  },
  {
   "cell_type": "markdown",
   "metadata": {},
   "source": [
    "### Example 3:\n",
    "- Use a list to manage inventory items in a store"
   ]
  },
  {
   "cell_type": "code",
   "execution_count": 7,
   "metadata": {},
   "outputs": [
    {
     "name": "stdout",
     "output_type": "stream",
     "text": [
      "oranges are in stock.\n",
      "Inventory list :\n",
      "-apples\n",
      "-oranges\n",
      "-grapes\n",
      "-strawberries\n"
     ]
    }
   ],
   "source": [
    "# Managing an inventory \n",
    "inventory = ['apples','banannas', 'oranges','grapes']\n",
    "\n",
    "# Adding a new item\n",
    "inventory.append('strawberries')\n",
    "\n",
    "# Removing an item that is out of stock\n",
    "inventory.remove('banannas')\n",
    "\n",
    "# Checking if an item is in stock\n",
    "item = 'oranges'\n",
    "if item in inventory:\n",
    "    print(f'{item} are in stock.')\n",
    "else:\n",
    "    print(f'{item} are out of stock.')\n",
    "\n",
    "\n",
    "# Printing the inventory \n",
    "print('Inventory list :')\n",
    "for item in inventory:\n",
    "    print(f'-{item}')"
   ]
  },
  {
   "cell_type": "markdown",
   "metadata": {},
   "source": [
    "### Example 4 : Collecting User Feedback\n",
    "\n",
    "- Use a list to collect and analyze user feedback\n",
    " "
   ]
  },
  {
   "cell_type": "code",
   "execution_count": 8,
   "metadata": {},
   "outputs": [
    {
     "name": "stdout",
     "output_type": "stream",
     "text": [
      "Positive feedback Count : 2\n",
      "User Feedback :\n",
      "-Great service!\n",
      "-Very satisfied\n",
      "-Could be better\n",
      "-EXcellent experence\n",
      "-Not happy with the service\n"
     ]
    }
   ],
   "source": [
    "# Collecting user feedback\n",
    "feedback = ['Great service!', 'Very satisfied', 'Could be better', 'EXcellent experence']\n",
    "\n",
    "# Adding new feedback\n",
    "feedback.append('Not happy with the service')\n",
    "\n",
    "# Counting Specific feedback\n",
    "positive_feedback_count = sum(1 for comment in feedback if 'great' in comment.lower() or 'excellent' in comment.lower())\n",
    "print(f'Positive feedback Count : {positive_feedback_count}')\n",
    "\n",
    "# Printing all feedback\n",
    "print('User Feedback :')\n",
    "for comment in feedback:\n",
    "    print(f'-{comment}')"
   ]
  },
  {
   "cell_type": "code",
   "execution_count": null,
   "metadata": {},
   "outputs": [],
   "source": []
  }
 ],
 "metadata": {
  "kernelspec": {
   "display_name": "venv1",
   "language": "python",
   "name": "python3"
  },
  "language_info": {
   "codemirror_mode": {
    "name": "ipython",
    "version": 3
   },
   "file_extension": ".py",
   "mimetype": "text/x-python",
   "name": "python",
   "nbconvert_exporter": "python",
   "pygments_lexer": "ipython3",
   "version": "3.12.0"
  }
 },
 "nbformat": 4,
 "nbformat_minor": 2
}
