{
 "cells": [
  {
   "cell_type": "markdown",
   "metadata": {},
   "source": [
    "### Inheritance in Python"
   ]
  },
  {
   "cell_type": "markdown",
   "metadata": {},
   "source": [
    "Inheritance is a fundamental concept in Object-Oriented-Programming(OOP) that allows a class to inherit attributes and methods from another class. This lesson covers single inheritance and multiple inheritance, demonstating how to create and use them in Python."
   ]
  },
  {
   "cell_type": "code",
   "execution_count": 14,
   "metadata": {},
   "outputs": [],
   "source": [
    "## INheritance   (single inheretance)\n",
    "## Parent class\n",
    "\n",
    "class Car:\n",
    "    def __init__(self,windows,door, enginetype) -> None:\n",
    "        self.windows = windows\n",
    "        self.door = door\n",
    "        self.enginetype = enginetype\n",
    "\n",
    "    def drive(self):\n",
    "        print(f\"The person will drive the {self.enginetype} car\")\n",
    "\n",
    "        "
   ]
  },
  {
   "cell_type": "code",
   "execution_count": 15,
   "metadata": {},
   "outputs": [
    {
     "name": "stdout",
     "output_type": "stream",
     "text": [
      "The person will drive the Petrol car\n",
      "None\n"
     ]
    }
   ],
   "source": [
    "car1 = Car(4,5,'Petrol')\n",
    "print(car1.drive())"
   ]
  },
  {
   "cell_type": "code",
   "execution_count": 16,
   "metadata": {},
   "outputs": [],
   "source": [
    "class Tesla(Car):\n",
    "    def __init__(self, windows, door, enginetype,is_selfdriving) -> None:\n",
    "        super().__init__(windows, door, enginetype)\n",
    "        self.is_selfdriving = is_selfdriving\n",
    "\n",
    "    def selfdriving(self):\n",
    "        print(f'Tesla Supports selfdriving : {self.is_selfdriving}')"
   ]
  },
  {
   "cell_type": "code",
   "execution_count": 17,
   "metadata": {},
   "outputs": [
    {
     "name": "stdout",
     "output_type": "stream",
     "text": [
      "Tesla Supports selfdriving : True\n"
     ]
    }
   ],
   "source": [
    "tesla1 = Tesla(4,5,'electric',True)\n",
    "tesla1.selfdriving()"
   ]
  },
  {
   "cell_type": "code",
   "execution_count": 18,
   "metadata": {},
   "outputs": [
    {
     "name": "stdout",
     "output_type": "stream",
     "text": [
      "The person will drive the electric car\n"
     ]
    }
   ],
   "source": [
    "tesla1.drive()"
   ]
  },
  {
   "cell_type": "code",
   "execution_count": 21,
   "metadata": {},
   "outputs": [
    {
     "name": "stdout",
     "output_type": "stream",
     "text": [
      "Buddy says woof\n",
      "Owner : krish\n"
     ]
    }
   ],
   "source": [
    "### multiple inheretance \n",
    "### when a class inherits from from more then one base class\n",
    "\n",
    "class Animal:        # Base class one\n",
    "    def __init__(self,name):\n",
    "        self.name = name\n",
    "    def speak(self):\n",
    "        print(\"Subclasses must implement this method\")\n",
    "\n",
    "### base class 2\n",
    "class Pet:\n",
    "    def __init__(self,owner) -> None:\n",
    "        self.owner = owner\n",
    "## Derived class \n",
    "class Dog(Animal,Pet):\n",
    "    def __init__(self, name,owner):\n",
    "        Animal.__init__(self,name)\n",
    "        Pet.__init__(self,owner)\n",
    "\n",
    "    def speak(self):\n",
    "        return f'{self.name} says woof'\n",
    "    \n",
    "\n",
    "## create and object\n",
    "dog = Dog('Buddy','krish')\n",
    "print(dog.speak())\n",
    "print(f\"Owner : {dog.owner}\")"
   ]
  },
  {
   "cell_type": "code",
   "execution_count": null,
   "metadata": {},
   "outputs": [],
   "source": []
  }
 ],
 "metadata": {
  "kernelspec": {
   "display_name": "venv1",
   "language": "python",
   "name": "python3"
  },
  "language_info": {
   "codemirror_mode": {
    "name": "ipython",
    "version": 3
   },
   "file_extension": ".py",
   "mimetype": "text/x-python",
   "name": "python",
   "nbconvert_exporter": "python",
   "pygments_lexer": "ipython3",
   "version": "3.12.0"
  }
 },
 "nbformat": 4,
 "nbformat_minor": 2
}
