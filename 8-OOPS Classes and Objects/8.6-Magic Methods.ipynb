{
 "cells": [
  {
   "cell_type": "markdown",
   "metadata": {},
   "source": [
    "### Magic Methods"
   ]
  },
  {
   "cell_type": "markdown",
   "metadata": {},
   "source": [
    "Magic methods in python , also known as dunder methods(double underscore methods) are special methods that start and end with double underscores. These methods enables you to define the behaviour of an object for builtin operations, such as arithmetic operations, comparisions, and more."
   ]
  },
  {
   "cell_type": "markdown",
   "metadata": {},
   "source": [
    "### Magic Methods"
   ]
  },
  {
   "cell_type": "markdown",
   "metadata": {},
   "source": [
    "Magic methods are predefinied methods  in pyhton that you canoverride to change the beheaviour of your objects. some common magic methods includes:"
   ]
  },
  {
   "cell_type": "markdown",
   "metadata": {},
   "source": [
    "- __init__ : initialize a new insance of class.\n",
    "- __str__: Returns a string representation of object\n",
    "- __repr__ : Returns an official representation of an object.\n",
    "- __len__ : Returns the length of an object\n",
    "- __getitem__ : Gets an item from a container\n",
    "- __setitem__ : Sets an item in a container."
   ]
  },
  {
   "cell_type": "code",
   "execution_count": null,
   "metadata": {},
   "outputs": [],
   "source": [
    "'''\n",
    "- __init__ : initialize a new insance of class.\n",
    "- __str__: Returns a string representation of object\n",
    "- __repr__ : Returns an official representation of an object.\n",
    "- __len__ : Returns the length of an object\n",
    "- __getitem__ : Gets an item from a container\n",
    "- __setitem__ : Sets an item in a container.\n",
    "'''"
   ]
  },
  {
   "cell_type": "code",
   "execution_count": 1,
   "metadata": {},
   "outputs": [
    {
     "name": "stdout",
     "output_type": "stream",
     "text": [
      "<__main__.Person object at 0x000001F3B6E75490>\n"
     ]
    }
   ],
   "source": [
    "## basic Methods\n",
    "class Person:\n",
    "    def __init__(self,name,age):\n",
    "        self.name = name\n",
    "        self.age = age\n",
    "person = Person(\"krish\",334)\n",
    "print(person)"
   ]
  },
  {
   "cell_type": "code",
   "execution_count": 5,
   "metadata": {},
   "outputs": [
    {
     "name": "stdout",
     "output_type": "stream",
     "text": [
      "krish, 334 years old\n",
      "Person(name = krish, age=334)\n"
     ]
    }
   ],
   "source": [
    "## basic Methods\n",
    "class Person:\n",
    "    def __init__(self,name,age):\n",
    "        self.name = name\n",
    "        self.age = age\n",
    "\n",
    "    def __str__(self):\n",
    "        return f\"{self.name}, {self.age} years old\"\n",
    "\n",
    "    def __repr__(self):\n",
    "        return f\"Person(name = {self.name}, age={self.age})\"\n",
    "\n",
    "person = Person(\"krish\",334)\n",
    "print(person)\n",
    "print(repr(person))\n"
   ]
  },
  {
   "cell_type": "code",
   "execution_count": null,
   "metadata": {},
   "outputs": [],
   "source": []
  }
 ],
 "metadata": {
  "kernelspec": {
   "display_name": "Python 3",
   "language": "python",
   "name": "python3"
  },
  "language_info": {
   "codemirror_mode": {
    "name": "ipython",
    "version": 3
   },
   "file_extension": ".py",
   "mimetype": "text/x-python",
   "name": "python",
   "nbconvert_exporter": "python",
   "pygments_lexer": "ipython3",
   "version": "3.12.0"
  }
 },
 "nbformat": 4,
 "nbformat_minor": 2
}
