{
 "cells": [
  {
   "cell_type": "markdown",
   "metadata": {},
   "source": [
    "### Operator Overloading"
   ]
  },
  {
   "cell_type": "markdown",
   "metadata": {},
   "source": [
    "Operartor overloading allows you to define the behaviour of operators(+,-,*,etc) for custom objects. You achieve this by overriding specific magic methods in your class"
   ]
  },
  {
   "cell_type": "code",
   "execution_count": 1,
   "metadata": {},
   "outputs": [
    {
     "data": {
      "text/plain": [
       "'\\n__add__(self, other): Adds two objects using the operator + operator\\n__sub__ (self,other): substracts two objects using the - operator\\n__mul__(self, other): Multiples two objects using the * operator\\n__truediv__(self, other): Divides two objects using the / operator.\\n__eq__(self, other) : checks if two objects are equal using the == operators\\n__lt__( self, other):checks if one object is less thsn another using the < operator\\n'"
      ]
     },
     "execution_count": 1,
     "metadata": {},
     "output_type": "execute_result"
    }
   ],
   "source": [
    "## Common operator overloading MAgic methods \n",
    "\n",
    "'''\n",
    "__add__(self, other): Adds two objects using the operator + operator\n",
    "__sub__ (self,other): substracts two objects using the - operator\n",
    "__mul__(self, other): Multiples two objects using the * operator\n",
    "__truediv__(self, other): Divides two objects using the / operator.\n",
    "__eq__(self, other) : checks if two objects are equal using the == operators\n",
    "__lt__( self, other):checks if one object is less thsn another using the < operator\n",
    "'''"
   ]
  },
  {
   "cell_type": "code",
   "execution_count": 2,
   "metadata": {},
   "outputs": [
    {
     "data": {
      "text/plain": [
       "2"
      ]
     },
     "execution_count": 2,
     "metadata": {},
     "output_type": "execute_result"
    }
   ],
   "source": [
    "1+1"
   ]
  },
  {
   "cell_type": "code",
   "execution_count": 3,
   "metadata": {},
   "outputs": [
    {
     "data": {
      "text/plain": [
       "0"
      ]
     },
     "execution_count": 3,
     "metadata": {},
     "output_type": "execute_result"
    }
   ],
   "source": [
    "1-1"
   ]
  },
  {
   "cell_type": "code",
   "execution_count": 7,
   "metadata": {},
   "outputs": [
    {
     "name": "stdout",
     "output_type": "stream",
     "text": [
      "Vector(6,8)\n",
      "Vector(-2,-2)\n",
      "Vector(6,9)\n"
     ]
    }
   ],
   "source": [
    "# mathematical operation \n",
    "\n",
    "class Vector:\n",
    "    def __init__(self,x,y):\n",
    "        self.x = x\n",
    "        self.y = y\n",
    "    \n",
    "    def __add__(self,other):\n",
    "        return Vector(self.x+other.x, self.y+other.y)\n",
    "    def __sub__(self, other):\n",
    "        return Vector(self.x - other.x, self.y - other.y)\n",
    "    def __mul__(self,other):\n",
    "        return Vector(self.x * other,self.y *other)\n",
    "    def __eq__(self,other):\n",
    "        return self.x == other.x and self.y == other.y\n",
    "    def __repr__(self):\n",
    "        return f'Vector({self.x},{self.y})'\n",
    "    \n",
    "### create objects of the Vector Class \n",
    "v1 = Vector(2,3)\n",
    "v2 = Vector(4,5)\n",
    "\n",
    "print(v1+v2)\n",
    "print(v1-v2)\n",
    "print(v1*3)"
   ]
  },
  {
   "cell_type": "code",
   "execution_count": 11,
   "metadata": {},
   "outputs": [
    {
     "name": "stdout",
     "output_type": "stream",
     "text": [
      "3 + 7 i\n",
      "1 + -1 i\n",
      "-10 + 11 i\n",
      "0.8235294117647058 + -0.29411764705882354 i\n",
      "False\n"
     ]
    }
   ],
   "source": [
    "## overloading operators for complex numbers\n",
    "\n",
    "class ComplexNumber:\n",
    "    def __init__(self,real,image):\n",
    "        self.real = real\n",
    "        self.image = image\n",
    "    def __add__(self, other):\n",
    "        return ComplexNumber(self.real + other.real,self.image + other.image)\n",
    "    def __sub__(self,other):\n",
    "        return ComplexNumber(self.real - other.real, self.image - other.image)\n",
    "    def __mul__(self,other):\n",
    "        real_part = self.real * other.real - self.image * other.image\n",
    "        image_part = self.real * other.image + self.image * other.real\n",
    "        return ComplexNumber(real_part, image_part)\n",
    "    def __truediv__(self,other):\n",
    "        denominator = other.real**2 + other.image**2\n",
    "        real_part = (self.real * other.real + self.image * other.image)/denominator\n",
    "        image_part = (self.image * other.real - self.real * other.image)/denominator\n",
    "        return ComplexNumber(real_part,image_part)\n",
    "    \n",
    "    def __eq__(self,other):\n",
    "        return self.real == other.real and self.image == other.image\n",
    "    def __repr__(self):\n",
    "        return f\"{self.real} + {self.image} i\"\n",
    "    \n",
    "# create objects of the Complexnumbers Class\n",
    "c1 = ComplexNumber(2,3)\n",
    "c2 = ComplexNumber(1,4)\n",
    "\n",
    "# use overloaded operators\n",
    "\n",
    "print(c1 + c2)\n",
    "print(c1 - c2)\n",
    "print(c1 * c2)\n",
    "print(c1 / c2)\n",
    "print(c1 == c2)"
   ]
  },
  {
   "cell_type": "code",
   "execution_count": null,
   "metadata": {},
   "outputs": [],
   "source": []
  }
 ],
 "metadata": {
  "kernelspec": {
   "display_name": "Python 3",
   "language": "python",
   "name": "python3"
  },
  "language_info": {
   "codemirror_mode": {
    "name": "ipython",
    "version": 3
   },
   "file_extension": ".py",
   "mimetype": "text/x-python",
   "name": "python",
   "nbconvert_exporter": "python",
   "pygments_lexer": "ipython3",
   "version": "3.12.0"
  }
 },
 "nbformat": 4,
 "nbformat_minor": 2
}
